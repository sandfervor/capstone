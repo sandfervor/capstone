{
 "cells": [
  {
   "cell_type": "markdown",
   "metadata": {},
   "source": [
    "# Capstone Webscrapping using BeautifulSoup\n",
    "\n",
    "This notebook contains guidances & tasks on the data processing for the application\n",
    "\n",
    "## Background\n",
    "\n",
    "At this project we try to scrap Etherium Price data from Coingecko website. Coingecko CoinGecko is the world’s largest independent cryptocurrency data aggregator with over 6,000 different cryptoassets tracked across more than 400 exchanges worldwide. \n",
    "\n",
    "We will try to scrap this sites using BeautifulSoup to get historical data of Market Capitalisation, Volume, Open and Close then  make the visualisation and the analysis for educational purpose as part of Algoritma's training.\n",
    "\n",
    "\n",
    "## Requesting the Data and Creating a BeautifulSoup\n",
    "\n",
    "Let's begin with requesting the web from the site with `get` method."
   ]
  },
  {
   "cell_type": "code",
   "execution_count": 120,
   "metadata": {
    "ExecuteTime": {
     "end_time": "2020-01-13T05:12:23.275508Z",
     "start_time": "2020-01-13T05:12:20.009898Z"
    }
   },
   "outputs": [],
   "source": [
    "import requests\n",
    "\n",
    "url_get = requests.get('https://www.coingecko.com/en/coins/ethereum/historical_data/usd?start_date=2020-01-01&end_date=2021-06-30#panel')\n",
    "\n"
   ]
  },
  {
   "cell_type": "markdown",
   "metadata": {},
   "source": [
    "To visualize what exactly you get from the `request.get`, we can use .content so ee what we exactly get, in here i slice it so it won't make our screen full of the html we get from the page. You can delete the slicing if you want to see what we fully get."
   ]
  },
  {
   "cell_type": "code",
   "execution_count": 121,
   "metadata": {
    "ExecuteTime": {
     "end_time": "2020-01-13T05:12:23.290648Z",
     "start_time": "2020-01-13T05:12:23.277650Z"
    }
   },
   "outputs": [
    {
     "data": {
      "text/plain": [
       "b'!DOCTYPE html>\\n<html lang=\"en\">\\n<head>\\n<meta charset=\"utf-8\">\\n<meta http-equiv=\"X-UA-Compatible\" content=\"IE=edge\">\\n<meta name=\"viewport\" content=\"width=device-width, initial-scale=1.0\">\\n<link rel=\"shortcut icon\" href=\"/favicon.ico\">\\n<link type=\"application/opensearchdescription+xml\" rel=\"search\" href=\"/OpensearchDescription.xml\" />\\n<title>Ethereum USD Historical Data | CoinGecko</title>\\n<meta name=\"description\" content=\"Get Ethereum (ETH) USD historical prices.\" />\\n\\n\\n<script>(function(w,d,s,l,'"
      ]
     },
     "execution_count": 121,
     "metadata": {},
     "output_type": "execute_result"
    }
   ],
   "source": [
    "url_get.content[1:500]"
   ]
  },
  {
   "cell_type": "markdown",
   "metadata": {},
   "source": [
    "As we can see we get a very unstructured and complex html, which actually contains the codes needed to show the webpages on your web browser. But we as human still confused what and where we can use that piece of code, so here where we use the beautifulsoup. Beautiful soup class will result a beautifulsoup object. Beautiful Soup transforms a complex HTML document into a complex tree of Python objects. \n",
    "\n",
    "Let's make Beautiful soup object and feel free to explore the object here."
   ]
  },
  {
   "cell_type": "code",
   "execution_count": 141,
   "metadata": {
    "ExecuteTime": {
     "end_time": "2020-01-13T05:12:23.808122Z",
     "start_time": "2020-01-13T05:12:23.292610Z"
    }
   },
   "outputs": [
    {
     "name": "stdout",
     "output_type": "stream",
     "text": [
      "<class 'bs4.BeautifulSoup'>\n"
     ]
    }
   ],
   "source": [
    "from bs4 import BeautifulSoup \n",
    "\n",
    "soup = BeautifulSoup(url_get.content,\"html.parser\")\n",
    "print(type(soup))"
   ]
  },
  {
   "cell_type": "markdown",
   "metadata": {},
   "source": [
    "## Finding the right key to scrap the data & Extracting the right information"
   ]
  },
  {
   "cell_type": "markdown",
   "metadata": {},
   "source": [
    "Now we should search the lines that we want to use. Let's back to our web page first.\n",
    "\n",
    "<img src=\"asset/eth1.png\">\n",
    "\n",
    "Find the key and put the key into the `.find()` Put all the exploring the right key at this cell. After exploring the page by inspect function of browser we found that the right key are `'table'` element and `'class':'table table-striped text-sm text-lg-normal'` attribute.\n",
    "\n",
    "<img src=\"asset/eth2.png\">\n"
   ]
  },
  {
   "cell_type": "code",
   "execution_count": 123,
   "metadata": {
    "ExecuteTime": {
     "end_time": "2020-01-13T05:12:23.878904Z",
     "start_time": "2020-01-13T05:12:23.854974Z"
    }
   },
   "outputs": [
    {
     "name": "stdout",
     "output_type": "stream",
     "text": [
      "table class=\"table table-striped text-sm text-lg-normal\">\n",
      " <thead>\n",
      "  <tr>\n",
      "   <th class=\"text-center\">\n",
      "    Date\n",
      "   </th>\n",
      "   <th class=\"text-center\">\n",
      "    Market Cap\n",
      "   </th>\n",
      "   <th class=\"text-center\">\n",
      "    Volume\n",
      "   </th>\n",
      "   <th class=\"text-center\">\n",
      "    Open\n",
      "   </th>\n",
      "   <th class=\"text-center\">\n",
      "    Close\n",
      "   </th>\n",
      "  </tr>\n",
      " </thead>\n",
      " <tbody>\n",
      "  <tr>\n",
      "   <th class=\"font-semibold text-center\" scope=\"row\">\n",
      "    2021-06-30\n",
      "   </th>\n",
      "   <td class=\"text-center\">\n",
      "    $253,607,549,372\n",
      "   </td>\n",
      "   <td class=\"te\n"
     ]
    }
   ],
   "source": [
    "    table = soup.find('table', attrs={'class':'table table-striped text-sm text-lg-normal'})\n",
    "print(table.prettify()[1:500])"
   ]
  },
  {
   "cell_type": "markdown",
   "metadata": {},
   "source": [
    "We do the scrapping process here and finding row length.\n",
    "\n",
    "As we can see from the line we just extract, we get all the content we needed.\n",
    "The find() function can help us to get the part of the html code that we needed.\n",
    "\n",
    "Now, we need to get 5 information, that is Date as the period of time, Market Cap, Volume, Open and Close. Which you can read from above code, Date is contained within table with \"class':'font-semibold text-center\", the rest in \"class':'text-center\""
   ]
  },
  {
   "cell_type": "code",
   "execution_count": 124,
   "metadata": {},
   "outputs": [
    {
     "data": {
      "text/plain": [
       "547"
      ]
     },
     "execution_count": 124,
     "metadata": {},
     "output_type": "execute_result"
    }
   ],
   "source": [
    "#scraping data of \"Date\"\n",
    "table.find_all('th', attrs={'class':'font-semibold text-center'})[:5]\n",
    "table.find_all('th', attrs={'class':'font-semibold text-center'})[0].text\n",
    "row = table.find_all('th', attrs={'class':'font-semibold text-center'})\n",
    "\n",
    "#fingding row_length of \"Date\"\n",
    "row_length = len(row)\n",
    "row_length\n"
   ]
  },
  {
   "cell_type": "code",
   "execution_count": 173,
   "metadata": {},
   "outputs": [
    {
     "data": {
      "text/plain": [
       "2188"
      ]
     },
     "execution_count": 173,
     "metadata": {},
     "output_type": "execute_result"
    }
   ],
   "source": [
    "#scraping data of marketcap, volume, open and close\n",
    "table.find_all('td', attrs={'class':'text-center'})[0:5]\n",
    "stock = table.find_all('td', attrs={'class':'text-center'})\n",
    "\n",
    "#check stock_length\n",
    "stock_length = len(stock)\n",
    "stock_length"
   ]
  },
  {
   "cell_type": "markdown",
   "metadata": {},
   "source": [
    "We use iteration to walk through and get only the value.\n",
    "Notice that `Market cap`, `volume`, `open` and `close` are stored combined in one array at every 4 sequence.\n",
    "That is occur due to they have same key.\n",
    "So we need modify the iteration process to get the data correctly."
   ]
  },
  {
   "cell_type": "code",
   "execution_count": 175,
   "metadata": {
    "ExecuteTime": {
     "end_time": "2020-01-13T05:12:24.008256Z",
     "start_time": "2020-01-13T05:12:23.980358Z"
    }
   },
   "outputs": [
    {
     "data": {
      "text/plain": [
       "[('2021-06-30', '$253,607,549,372', '$27,149,143,847', '$2,169.40', 'N/A'),\n",
       " ('2021-06-29',\n",
       "  '$243,040,539,437',\n",
       "  '$30,629,329,806',\n",
       "  '$2,087.52',\n",
       "  '$2,169.40'),\n",
       " ('2021-06-28',\n",
       "  '$229,354,016,311',\n",
       "  '$24,316,408,028',\n",
       "  '$1,973.93',\n",
       "  '$2,087.52'),\n",
       " ('2021-06-27',\n",
       "  '$209,989,265,221',\n",
       "  '$24,249,510,321',\n",
       "  '$1,817.05',\n",
       "  '$1,973.93'),\n",
       " ('2021-06-26',\n",
       "  '$213,871,849,532',\n",
       "  '$25,981,381,067',\n",
       "  '$1,833.46',\n",
       "  '$1,817.05')]"
      ]
     },
     "execution_count": 175,
     "metadata": {},
     "output_type": "execute_result"
    }
   ],
   "source": [
    "temp = [] #init\n",
    "for i in range(0, row_length):\n",
    "    \n",
    "    #get date \n",
    "    date = row[i].text\n",
    " \n",
    "    #get market_cap\n",
    "    x0 = i * 4\n",
    "    market_cap = stock[x0].text.strip()\n",
    "        \n",
    "    #get volume\n",
    "    x1 = (i * 4)+1\n",
    "    volume = stock[x1].text.strip() \n",
    "        \n",
    "    #get open\n",
    "    x2 = (i * 4)+2\n",
    "    open_info = stock[x2].text.strip()\n",
    "    \n",
    "    #get close\n",
    "    x3 = (i * 4)+3\n",
    "    close_info = stock[x3].text.strip()\n",
    "\n",
    "    temp.append((date,market_cap,volume,open_info,close_info))\n",
    "temp[:5] \n"
   ]
  },
  {
   "cell_type": "markdown",
   "metadata": {},
   "source": [
    "## Creating data frame & Data wrangling"
   ]
  },
  {
   "cell_type": "markdown",
   "metadata": {},
   "source": [
    "Put the array into dataframe"
   ]
  },
  {
   "cell_type": "code",
   "execution_count": 139,
   "metadata": {
    "ExecuteTime": {
     "end_time": "2020-01-13T05:12:41.517372Z",
     "start_time": "2020-01-13T05:12:29.130015Z"
    }
   },
   "outputs": [
    {
     "data": {
      "text/html": [
       "<div>\n",
       "<style scoped>\n",
       "    .dataframe tbody tr th:only-of-type {\n",
       "        vertical-align: middle;\n",
       "    }\n",
       "\n",
       "    .dataframe tbody tr th {\n",
       "        vertical-align: top;\n",
       "    }\n",
       "\n",
       "    .dataframe thead th {\n",
       "        text-align: right;\n",
       "    }\n",
       "</style>\n",
       "<table border=\"1\" class=\"dataframe\">\n",
       "  <thead>\n",
       "    <tr style=\"text-align: right;\">\n",
       "      <th></th>\n",
       "      <th>date</th>\n",
       "      <th>market_cap</th>\n",
       "      <th>volume</th>\n",
       "      <th>open</th>\n",
       "      <th>close</th>\n",
       "    </tr>\n",
       "  </thead>\n",
       "  <tbody>\n",
       "    <tr>\n",
       "      <th>0</th>\n",
       "      <td>2021-06-30</td>\n",
       "      <td>$253,607,549,372</td>\n",
       "      <td>$27,149,143,847</td>\n",
       "      <td>$2,169.40</td>\n",
       "      <td>N/A</td>\n",
       "    </tr>\n",
       "    <tr>\n",
       "      <th>1</th>\n",
       "      <td>2021-06-29</td>\n",
       "      <td>$243,040,539,437</td>\n",
       "      <td>$30,629,329,806</td>\n",
       "      <td>$2,087.52</td>\n",
       "      <td>$2,169.40</td>\n",
       "    </tr>\n",
       "    <tr>\n",
       "      <th>2</th>\n",
       "      <td>2021-06-28</td>\n",
       "      <td>$229,354,016,311</td>\n",
       "      <td>$24,316,408,028</td>\n",
       "      <td>$1,973.93</td>\n",
       "      <td>$2,087.52</td>\n",
       "    </tr>\n",
       "    <tr>\n",
       "      <th>3</th>\n",
       "      <td>2021-06-27</td>\n",
       "      <td>$209,989,265,221</td>\n",
       "      <td>$24,249,510,321</td>\n",
       "      <td>$1,817.05</td>\n",
       "      <td>$1,973.93</td>\n",
       "    </tr>\n",
       "    <tr>\n",
       "      <th>4</th>\n",
       "      <td>2021-06-26</td>\n",
       "      <td>$213,871,849,532</td>\n",
       "      <td>$25,981,381,067</td>\n",
       "      <td>$1,833.46</td>\n",
       "      <td>$1,817.05</td>\n",
       "    </tr>\n",
       "  </tbody>\n",
       "</table>\n",
       "</div>"
      ],
      "text/plain": [
       "         date        market_cap           volume       open      close\n",
       "0  2021-06-30  $253,607,549,372  $27,149,143,847  $2,169.40        N/A\n",
       "1  2021-06-29  $243,040,539,437  $30,629,329,806  $2,087.52  $2,169.40\n",
       "2  2021-06-28  $229,354,016,311  $24,316,408,028  $1,973.93  $2,087.52\n",
       "3  2021-06-27  $209,989,265,221  $24,249,510,321  $1,817.05  $1,973.93\n",
       "4  2021-06-26  $213,871,849,532  $25,981,381,067  $1,833.46  $1,817.05"
      ]
     },
     "execution_count": 139,
     "metadata": {},
     "output_type": "execute_result"
    }
   ],
   "source": [
    "import pandas as pd\n",
    "\n",
    "df = pd.DataFrame(temp, columns = ('date','market_cap','volume','open','close'))\n",
    "df.head()\n"
   ]
  },
  {
   "cell_type": "code",
   "execution_count": 132,
   "metadata": {},
   "outputs": [
    {
     "name": "stderr",
     "output_type": "stream",
     "text": [
      "C:\\Users\\SHANDY~1\\AppData\\Local\\Temp/ipykernel_8520/3620412572.py:6: FutureWarning: The default value of regex will change from True to False in a future version. In addition, single character regular expressions will*not* be treated as literal strings when regex=True.\n",
      "  eth['market_cap'] = eth['market_cap'].str.replace(\"$\",\"\")\n",
      "C:\\Users\\SHANDY~1\\AppData\\Local\\Temp/ipykernel_8520/3620412572.py:10: FutureWarning: The default value of regex will change from True to False in a future version. In addition, single character regular expressions will*not* be treated as literal strings when regex=True.\n",
      "  eth['volume'] = eth['volume'].str.replace(\"$\",\"\")\n",
      "C:\\Users\\SHANDY~1\\AppData\\Local\\Temp/ipykernel_8520/3620412572.py:14: FutureWarning: The default value of regex will change from True to False in a future version. In addition, single character regular expressions will*not* be treated as literal strings when regex=True.\n",
      "  eth['open'] = eth['open'].str.replace(\"$\",\"\")\n",
      "C:\\Users\\SHANDY~1\\AppData\\Local\\Temp/ipykernel_8520/3620412572.py:18: FutureWarning: The default value of regex will change from True to False in a future version. In addition, single character regular expressions will*not* be treated as literal strings when regex=True.\n",
      "  eth['close'] = eth['close'].str.replace(\"$\",\"\")\n"
     ]
    },
    {
     "data": {
      "text/plain": [
       "date          datetime64[ns]\n",
       "market_cap           float64\n",
       "volume               float64\n",
       "open                 float64\n",
       "close                float64\n",
       "dtype: object"
      ]
     },
     "execution_count": 132,
     "metadata": {},
     "output_type": "execute_result"
    }
   ],
   "source": []
  },
  {
   "cell_type": "markdown",
   "metadata": {},
   "source": [
    "We do the data cleaning here. First we can copy to another variable Dataframe. Next identify what datatypes should have for every columns. In this case 'Date' must be convert to Datetime while the rest is to float. To convert into float we should remove `$` and `,`  and also handle the \"N/A\" case."
   ]
  },
  {
   "cell_type": "code",
   "execution_count": 145,
   "metadata": {},
   "outputs": [
    {
     "name": "stdout",
     "output_type": "stream",
     "text": [
      "<class 'pandas.core.frame.DataFrame'>\n",
      "RangeIndex: 547 entries, 0 to 546\n",
      "Data columns (total 5 columns):\n",
      " #   Column      Non-Null Count  Dtype         \n",
      "---  ------      --------------  -----         \n",
      " 0   date        547 non-null    datetime64[ns]\n",
      " 1   market_cap  547 non-null    float64       \n",
      " 2   volume      547 non-null    float64       \n",
      " 3   open        547 non-null    float64       \n",
      " 4   close       546 non-null    float64       \n",
      "dtypes: datetime64[ns](1), float64(4)\n",
      "memory usage: 21.5 KB\n"
     ]
    },
    {
     "name": "stderr",
     "output_type": "stream",
     "text": [
      "C:\\Users\\SHANDY~1\\AppData\\Local\\Temp/ipykernel_8520/1340002157.py:7: FutureWarning: The default value of regex will change from True to False in a future version. In addition, single character regular expressions will*not* be treated as literal strings when regex=True.\n",
      "  eth['market_cap'] = eth['market_cap'].str.replace(\"$\",\"\")\n",
      "C:\\Users\\SHANDY~1\\AppData\\Local\\Temp/ipykernel_8520/1340002157.py:11: FutureWarning: The default value of regex will change from True to False in a future version. In addition, single character regular expressions will*not* be treated as literal strings when regex=True.\n",
      "  eth['volume'] = eth['volume'].str.replace(\"$\",\"\")\n",
      "C:\\Users\\SHANDY~1\\AppData\\Local\\Temp/ipykernel_8520/1340002157.py:15: FutureWarning: The default value of regex will change from True to False in a future version. In addition, single character regular expressions will*not* be treated as literal strings when regex=True.\n",
      "  eth['open'] = eth['open'].str.replace(\"$\",\"\")\n",
      "C:\\Users\\SHANDY~1\\AppData\\Local\\Temp/ipykernel_8520/1340002157.py:19: FutureWarning: The default value of regex will change from True to False in a future version. In addition, single character regular expressions will*not* be treated as literal strings when regex=True.\n",
      "  eth['close'] = eth['close'].str.replace(\"$\",\"\")\n"
     ]
    }
   ],
   "source": [
    "import numpy as np\n",
    "eth = df.copy()\n",
    "eth.dtypes\n",
    "\n",
    "eth['date'] = eth['date'].astype('datetime64')\n",
    "\n",
    "eth['market_cap'] = eth['market_cap'].str.replace(\"$\",\"\")\n",
    "eth['market_cap'] = eth['market_cap'].str.replace(\",\",\"\")\n",
    "eth['market_cap'] = eth['market_cap'].astype(\"float64\")\n",
    "\n",
    "eth['volume'] = eth['volume'].str.replace(\"$\",\"\")\n",
    "eth['volume'] = eth['volume'].str.replace(\",\",\"\")\n",
    "eth['volume'] = eth['volume'].astype(\"float64\")\n",
    "\n",
    "eth['open'] = eth['open'].str.replace(\"$\",\"\")\n",
    "eth['open'] = eth['open'].str.replace(\",\",\"\")\n",
    "eth['open'] = eth['open'].astype(\"float64\")\n",
    "\n",
    "eth['close'] = eth['close'].str.replace(\"$\",\"\")\n",
    "eth['close'] = eth['close'].str.replace(\",\",\"\")\n",
    "eth['close']= eth['close'].replace('N/A',np.NaN) # to handle \"N/A\" by change as missing value\n",
    "eth['close'] = eth['close'].astype(\"float64\")\n",
    "\n",
    "\n",
    "#checking missing value\n",
    "eth.info()\n",
    "# there is only one missing value that in Close\n"
   ]
  },
  {
   "cell_type": "markdown",
   "metadata": {},
   "source": [
    "To make our plot behave like we want, we need to set our index of our dataframe to our time coloumn. We can use set_index()"
   ]
  },
  {
   "cell_type": "code",
   "execution_count": 146,
   "metadata": {},
   "outputs": [
    {
     "data": {
      "text/html": [
       "<div>\n",
       "<style scoped>\n",
       "    .dataframe tbody tr th:only-of-type {\n",
       "        vertical-align: middle;\n",
       "    }\n",
       "\n",
       "    .dataframe tbody tr th {\n",
       "        vertical-align: top;\n",
       "    }\n",
       "\n",
       "    .dataframe thead th {\n",
       "        text-align: right;\n",
       "    }\n",
       "</style>\n",
       "<table border=\"1\" class=\"dataframe\">\n",
       "  <thead>\n",
       "    <tr style=\"text-align: right;\">\n",
       "      <th></th>\n",
       "      <th>market_cap</th>\n",
       "      <th>volume</th>\n",
       "      <th>open</th>\n",
       "      <th>close</th>\n",
       "    </tr>\n",
       "    <tr>\n",
       "      <th>date</th>\n",
       "      <th></th>\n",
       "      <th></th>\n",
       "      <th></th>\n",
       "      <th></th>\n",
       "    </tr>\n",
       "  </thead>\n",
       "  <tbody>\n",
       "    <tr>\n",
       "      <th>2021-06-30</th>\n",
       "      <td>2.536075e+11</td>\n",
       "      <td>2.714914e+10</td>\n",
       "      <td>2169.40</td>\n",
       "      <td>NaN</td>\n",
       "    </tr>\n",
       "    <tr>\n",
       "      <th>2021-06-29</th>\n",
       "      <td>2.430405e+11</td>\n",
       "      <td>3.062933e+10</td>\n",
       "      <td>2087.52</td>\n",
       "      <td>2169.40</td>\n",
       "    </tr>\n",
       "    <tr>\n",
       "      <th>2021-06-28</th>\n",
       "      <td>2.293540e+11</td>\n",
       "      <td>2.431641e+10</td>\n",
       "      <td>1973.93</td>\n",
       "      <td>2087.52</td>\n",
       "    </tr>\n",
       "    <tr>\n",
       "      <th>2021-06-27</th>\n",
       "      <td>2.099893e+11</td>\n",
       "      <td>2.424951e+10</td>\n",
       "      <td>1817.05</td>\n",
       "      <td>1973.93</td>\n",
       "    </tr>\n",
       "    <tr>\n",
       "      <th>2021-06-26</th>\n",
       "      <td>2.138718e+11</td>\n",
       "      <td>2.598138e+10</td>\n",
       "      <td>1833.46</td>\n",
       "      <td>1817.05</td>\n",
       "    </tr>\n",
       "    <tr>\n",
       "      <th>...</th>\n",
       "      <td>...</td>\n",
       "      <td>...</td>\n",
       "      <td>...</td>\n",
       "      <td>...</td>\n",
       "    </tr>\n",
       "    <tr>\n",
       "      <th>2020-01-05</th>\n",
       "      <td>1.463621e+10</td>\n",
       "      <td>6.958394e+09</td>\n",
       "      <td>134.14</td>\n",
       "      <td>135.01</td>\n",
       "    </tr>\n",
       "    <tr>\n",
       "      <th>2020-01-04</th>\n",
       "      <td>1.461319e+10</td>\n",
       "      <td>9.655245e+09</td>\n",
       "      <td>133.70</td>\n",
       "      <td>134.14</td>\n",
       "    </tr>\n",
       "    <tr>\n",
       "      <th>2020-01-03</th>\n",
       "      <td>1.385979e+10</td>\n",
       "      <td>6.497298e+09</td>\n",
       "      <td>127.05</td>\n",
       "      <td>133.70</td>\n",
       "    </tr>\n",
       "    <tr>\n",
       "      <th>2020-01-02</th>\n",
       "      <td>1.423059e+10</td>\n",
       "      <td>6.623732e+09</td>\n",
       "      <td>130.48</td>\n",
       "      <td>127.05</td>\n",
       "    </tr>\n",
       "    <tr>\n",
       "      <th>2020-01-01</th>\n",
       "      <td>1.409745e+10</td>\n",
       "      <td>7.103187e+09</td>\n",
       "      <td>129.19</td>\n",
       "      <td>130.48</td>\n",
       "    </tr>\n",
       "  </tbody>\n",
       "</table>\n",
       "<p>547 rows × 4 columns</p>\n",
       "</div>"
      ],
      "text/plain": [
       "              market_cap        volume     open    close\n",
       "date                                                    \n",
       "2021-06-30  2.536075e+11  2.714914e+10  2169.40      NaN\n",
       "2021-06-29  2.430405e+11  3.062933e+10  2087.52  2169.40\n",
       "2021-06-28  2.293540e+11  2.431641e+10  1973.93  2087.52\n",
       "2021-06-27  2.099893e+11  2.424951e+10  1817.05  1973.93\n",
       "2021-06-26  2.138718e+11  2.598138e+10  1833.46  1817.05\n",
       "...                  ...           ...      ...      ...\n",
       "2020-01-05  1.463621e+10  6.958394e+09   134.14   135.01\n",
       "2020-01-04  1.461319e+10  9.655245e+09   133.70   134.14\n",
       "2020-01-03  1.385979e+10  6.497298e+09   127.05   133.70\n",
       "2020-01-02  1.423059e+10  6.623732e+09   130.48   127.05\n",
       "2020-01-01  1.409745e+10  7.103187e+09   129.19   130.48\n",
       "\n",
       "[547 rows x 4 columns]"
      ]
     },
     "execution_count": 146,
     "metadata": {},
     "output_type": "execute_result"
    }
   ],
   "source": [
    "eth = eth.set_index('date')\n",
    "eth"
   ]
  },
  {
   "cell_type": "markdown",
   "metadata": {},
   "source": [
    "### Implementing your webscrapping to the flask dashboard\n",
    "\n",
    "- Copy paste all of your web scrapping process to the desired position on the `app.py`\n",
    "- Changing the title of the dasboard at `index.html`"
   ]
  },
  {
   "cell_type": "markdown",
   "metadata": {},
   "source": [
    "## Finishing This Notebook with Your Analysis and Conclusion\n",
    "\n",
    "We do our simple visualisation to analize the data."
   ]
  },
  {
   "cell_type": "code",
   "execution_count": 170,
   "metadata": {},
   "outputs": [
    {
     "data": {
      "text/plain": [
       "<AxesSubplot:xlabel='date'>"
      ]
     },
     "execution_count": 170,
     "metadata": {},
     "output_type": "execute_result"
    },
    {
     "data": {
      "image/png": "[encoded data removed]",
      "text/plain": [
       "<Figure size 432x288 with 1 Axes>"
      ]
     },
     "metadata": {
      "needs_background": "light"
     },
     "output_type": "display_data"
    },
    {
     "data": {
      "image/png": "[encoded data removed]",
      "text/plain": [
       "<Figure size 432x288 with 1 Axes>"
      ]
     },
     "metadata": {
      "needs_background": "light"
     },
     "output_type": "display_data"
    },
    {
     "data": {
      "image/png": "[encoded data removed]",
      "text/plain": [
       "<Figure size 432x288 with 1 Axes>"
      ]
     },
     "metadata": {
      "needs_background": "light"
     },
     "output_type": "display_data"
    }
   ],
   "source": [
    "eth[['volume']].plot()\n",
    "\n",
    "#additional\n",
    "eth[['market_cap']].plot()\n",
    "eth[['open','close']].plot()\n",
    "\n"
   ]
  },
  {
   "cell_type": "markdown",
   "metadata": {},
   "source": [
    "\n",
    "(Put your analysis and conclusion here.)"
   ]
  },
  {
   "cell_type": "markdown",
   "metadata": {},
   "source": [
    "### Extra Challange\n",
    "\n",
    "This will be not included to the scoring. \n",
    "\n",
    "ETH analysis as the following :\n",
    "- ETH volume transaction was in uptrend from Jan21 to May21 and then declined until Jun21. The highest spike was at Jan21 in amount USD 140Bn.\n",
    "\n",
    "- In market cap wise, ETH trend significantly rose from Jan21 to May21 reached USD 481.4 Bn as the highest and declined to USD 253 Bn  at end of Jun21.\n",
    "\n",
    "- The price trendline shows very similar to market cap. We can conclude the price is very affected by the market cap. The highest price was USD 4,182 and declined to 2,169 at end of Jun21"
   ]
  },
  {
   "cell_type": "code",
   "execution_count": 172,
   "metadata": {},
   "outputs": [
    {
     "data": {
      "text/html": [
       "<div>\n",
       "<style scoped>\n",
       "    .dataframe tbody tr th:only-of-type {\n",
       "        vertical-align: middle;\n",
       "    }\n",
       "\n",
       "    .dataframe tbody tr th {\n",
       "        vertical-align: top;\n",
       "    }\n",
       "\n",
       "    .dataframe thead th {\n",
       "        text-align: right;\n",
       "    }\n",
       "</style>\n",
       "<table border=\"1\" class=\"dataframe\">\n",
       "  <thead>\n",
       "    <tr style=\"text-align: right;\">\n",
       "      <th></th>\n",
       "      <th>market_cap</th>\n",
       "      <th>volume</th>\n",
       "      <th>open</th>\n",
       "      <th>close</th>\n",
       "    </tr>\n",
       "    <tr>\n",
       "      <th>date</th>\n",
       "      <th></th>\n",
       "      <th></th>\n",
       "      <th></th>\n",
       "      <th></th>\n",
       "    </tr>\n",
       "  </thead>\n",
       "  <tbody>\n",
       "    <tr>\n",
       "      <th>2021-06-30</th>\n",
       "      <td>253,607,549,372.0</td>\n",
       "      <td>27,149,143,847.0</td>\n",
       "      <td>2,169.4</td>\n",
       "      <td>NaN</td>\n",
       "    </tr>\n",
       "    <tr>\n",
       "      <th>2021-06-29</th>\n",
       "      <td>243,040,539,437.0</td>\n",
       "      <td>30,629,329,806.0</td>\n",
       "      <td>2,087.52</td>\n",
       "      <td>2,169.4</td>\n",
       "    </tr>\n",
       "    <tr>\n",
       "      <th>2021-06-28</th>\n",
       "      <td>229,354,016,311.0</td>\n",
       "      <td>24,316,408,028.0</td>\n",
       "      <td>1,973.93</td>\n",
       "      <td>2,087.52</td>\n",
       "    </tr>\n",
       "    <tr>\n",
       "      <th>2021-06-27</th>\n",
       "      <td>209,989,265,221.0</td>\n",
       "      <td>24,249,510,321.0</td>\n",
       "      <td>1,817.05</td>\n",
       "      <td>1,973.93</td>\n",
       "    </tr>\n",
       "    <tr>\n",
       "      <th>2021-06-26</th>\n",
       "      <td>213,871,849,532.0</td>\n",
       "      <td>25,981,381,067.0</td>\n",
       "      <td>1,833.46</td>\n",
       "      <td>1,817.05</td>\n",
       "    </tr>\n",
       "    <tr>\n",
       "      <th>...</th>\n",
       "      <td>...</td>\n",
       "      <td>...</td>\n",
       "      <td>...</td>\n",
       "      <td>...</td>\n",
       "    </tr>\n",
       "    <tr>\n",
       "      <th>2020-01-05</th>\n",
       "      <td>14,636,213,160.0</td>\n",
       "      <td>6,958,393,690.0</td>\n",
       "      <td>134.14</td>\n",
       "      <td>135.01</td>\n",
       "    </tr>\n",
       "    <tr>\n",
       "      <th>2020-01-04</th>\n",
       "      <td>14,613,194,776.0</td>\n",
       "      <td>9,655,245,100.0</td>\n",
       "      <td>133.7</td>\n",
       "      <td>134.14</td>\n",
       "    </tr>\n",
       "    <tr>\n",
       "      <th>2020-01-03</th>\n",
       "      <td>13,859,793,330.0</td>\n",
       "      <td>6,497,297,884.0</td>\n",
       "      <td>127.05</td>\n",
       "      <td>133.7</td>\n",
       "    </tr>\n",
       "    <tr>\n",
       "      <th>2020-01-02</th>\n",
       "      <td>14,230,588,104.0</td>\n",
       "      <td>6,623,732,041.0</td>\n",
       "      <td>130.48</td>\n",
       "      <td>127.05</td>\n",
       "    </tr>\n",
       "    <tr>\n",
       "      <th>2020-01-01</th>\n",
       "      <td>14,097,451,632.0</td>\n",
       "      <td>7,103,187,151.0</td>\n",
       "      <td>129.19</td>\n",
       "      <td>130.48</td>\n",
       "    </tr>\n",
       "  </tbody>\n",
       "</table>\n",
       "<p>547 rows × 4 columns</p>\n",
       "</div>"
      ],
      "text/plain": [
       "                  market_cap           volume     open    close\n",
       "date                                                           \n",
       "2021-06-30 253,607,549,372.0 27,149,143,847.0  2,169.4      NaN\n",
       "2021-06-29 243,040,539,437.0 30,629,329,806.0 2,087.52  2,169.4\n",
       "2021-06-28 229,354,016,311.0 24,316,408,028.0 1,973.93 2,087.52\n",
       "2021-06-27 209,989,265,221.0 24,249,510,321.0 1,817.05 1,973.93\n",
       "2021-06-26 213,871,849,532.0 25,981,381,067.0 1,833.46 1,817.05\n",
       "...                      ...              ...      ...      ...\n",
       "2020-01-05  14,636,213,160.0  6,958,393,690.0   134.14   135.01\n",
       "2020-01-04  14,613,194,776.0  9,655,245,100.0    133.7   134.14\n",
       "2020-01-03  13,859,793,330.0  6,497,297,884.0   127.05    133.7\n",
       "2020-01-02  14,230,588,104.0  6,623,732,041.0   130.48   127.05\n",
       "2020-01-01  14,097,451,632.0  7,103,187,151.0   129.19   130.48\n",
       "\n",
       "[547 rows x 4 columns]"
      ]
     },
     "execution_count": 172,
     "metadata": {},
     "output_type": "execute_result"
    }
   ],
   "source": [
    "pd.set_option('display.float_format', lambda x: '%.2f' % x)\n",
    "pd.options.display.float_format = '{:,}'.format\n",
    "\n",
    "\n",
    "#eth['market_cap'].describe()\n",
    "\n",
    "#highest volume\n",
    "eth.sort_values(\"volume\", ascending=False)\n",
    "\n",
    "#ADDITIONAL\n",
    "#highest market cap\n",
    "eth.sort_values(\"market_cap\", ascending=False)\n",
    "\n",
    "#latest market cap\n",
    "eth.sort_values(\"date\", ascending=False)\n",
    "\n",
    "#highest price\n",
    "eth.sort_values(\"close\", ascending=False)\n",
    "\n",
    "#latest price\n",
    "eth.sort_values(\"date\", ascending=False)\n"
   ]
  },
  {
   "cell_type": "code",
   "execution_count": null,
   "metadata": {},
   "outputs": [],
   "source": []
  }
 ],
 "metadata": {
  "kernelspec": {
   "display_name": "phoenix_da",
   "language": "python",
   "name": "phoenix_da"
  },
  "language_info": {
   "codemirror_mode": {
    "name": "ipython",
    "version": 3
   },
   "file_extension": ".py",
   "mimetype": "text/x-python",
   "name": "python",
   "nbconvert_exporter": "python",
   "pygments_lexer": "ipython3",
   "version": "3.8.11"
  }
 },
 "nbformat": 4,
 "nbformat_minor": 2
}
